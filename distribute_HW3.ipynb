{
  "nbformat": 4,
  "nbformat_minor": 0,
  "metadata": {
    "kernelspec": {
      "display_name": "Python 3",
      "language": "python",
      "name": "python3"
    },
    "language_info": {
      "codemirror_mode": {
        "name": "ipython",
        "version": 3
      },
      "file_extension": ".py",
      "mimetype": "text/x-python",
      "name": "python",
      "nbconvert_exporter": "python",
      "pygments_lexer": "ipython3",
      "version": "3.8.5"
    },
    "colab": {
      "name": "distribute_HW3.ipynb",
      "provenance": [],
      "collapsed_sections": []
    }
  },
  "cells": [
    {
      "cell_type": "markdown",
      "metadata": {
        "id": "XmsZ7Cu80gRf"
      },
      "source": [
        "<img src=\"https://drive.google.com/uc?export=view&id=1nMaBQ7g88duMECw_B4mH8ruxwnIwVzGP\" width=300/> \n",
        "\n",
        "# ML-1: Standardization, Classification & Model evaluation\n",
        "## Homework 3: Are you mad enough to sell more clothes?\n",
        "\n",
        "**ML-1 Cohort 1** <br>\n",
        "**Instructor: Dr. Rahul Dave**<br>\n",
        "**Max Score: 100** <br>"
      ]
    },
    {
      "cell_type": "markdown",
      "metadata": {
        "id": "_rB8a0eU0gR2"
      },
      "source": [
        "### Name of people who have worked on this homework:\r\n",
        "\r\n",
        "Akshay, Aziza"
      ]
    },
    {
      "cell_type": "markdown",
      "metadata": {
        "id": "6ZY6Sevd0gR4"
      },
      "source": [
        "## Table of Contents \n",
        "* [HW-3: Are you mad enough to sell more clothes?](#HW-3:-Are-you-mad-enough-to-sell-more-clothes?)\n",
        "  * [Instructions](##Instructions)\n",
        "  * [Overview](##Overview)\n",
        "  * [Q1: Test & Training Sets & Standardization](##Q1:-Test-&-Training-Sets-&-Standardization)\n",
        "    * [1.1 Train-Test Split](###1.1-Train-Test-Split)\n",
        "    * [1.2 Standardizing data](##1.2-Standardizing-data)\n",
        "  * [Q2: Classification with Lasso (L1) regularization](##Q2:-Classification-with-Lasso-(L1)-regularization)\n",
        "    * [2.1 Baseline Classifiers](###2.1-Baseline-Classifiers)\n",
        "    * [2.2 Classification Model - Logistic with Lasso (L1)](###2.2-Classification-Model-Logistic-with-Lasso-(L1))\n",
        "    * [2.3 Prediction](###2.3-Prediction)\n",
        "  * [Q3: Confusion Matrix, Costs, Averge Profit & Thresholds](##Q3:-Confusion-Matrix,-Costs,-Averge-Profit-&-Thresholds)\n",
        "    * [3.1 Confusion Matrix](####3.1-Confusion-Matrix)\n",
        "    * [3.2 Cost and Utility Matrix](####3.2-Cost-and-Utility-Matrix)\n",
        "    * [3.3 Average Profit Per Person](####3.3-Average-Profit-Per-Person)\n",
        "    * [3.4 Thresholds](####3.4-Thresholds)\n",
        "  * [Q4: ROC Curves & Profit Curves](##Q4:-ROC-Curves-&-Profit-Curves)\n",
        "    * [4.1 ROC Curves](####4.1-ROC-Curves)\n",
        "    * [4.2 Profit Curves](####4.2-Profit-Curves)"
      ]
    },
    {
      "cell_type": "markdown",
      "metadata": {
        "id": "Y0sgwZs00gR6"
      },
      "source": [
        "## Instructions"
      ]
    },
    {
      "cell_type": "markdown",
      "metadata": {
        "id": "1cAfNgoW0gR7"
      },
      "source": [
        "- This homework should be submitted in pairs.\n",
        "\n",
        "- Ensure you and your partner together have submitted the homework only once. Multiple submissions of the same work will be penalised and will cost you 2 points.\n",
        "\n",
        "- Please restart the kernel and run the entire notebook again before you submit.\n",
        "\n",
        "- Running cells out of order is a common pitfall in Notebooks. To make sure your code works restart the kernel and run the whole notebook again before you submit. \n",
        "\n",
        "- To work on the homework, you will first need to fork the repository into your GitHub account and clone it to work on it on your local computer. To submit your homework, push your homework into the same GitHub and upload the link on edStem.\n",
        "\n",
        "- Submit the homework well before the given deadline. Submissions after the deadline will not be graded.\n",
        "\n",
        "- We have tried to include all the libraries you may need to do the assignment in the imports statement at the top of this notebook. We strongly suggest that you use those and not others as we may not be familiar with them.\n",
        "\n",
        "- Comment your code well. This would help the graders in case there is any issue with the notebook while running. It is important to remember that the graders will not troubleshoot your code. \n",
        "\n",
        "- Please use .head() when viewing data. Do not submit a notebook that is **excessively long**. \n",
        "\n",
        "- In questions that require code to answer, such as \"calculate the $R^2$\", do not just output the value from a cell. Write a `print()` function that includes a reference to the calculated value, **not hardcoded**. For example: \n",
        "```\n",
        "print(f'The R^2 is {R:.4f}')\n",
        "```\n",
        "- Your plots should include clear labels for the $x$ and $y$ axes as well as a descriptive title (\"MSE plot\" is not a descriptive title; \"95 % confidence interval of coefficients of polynomial degree 5\" is).\n",
        "\n",
        "- **Ensure you make appropriate plots for all the questions it is applicable to, regardless of it being explicitly asked for.**\n",
        "\n",
        "<hr style=\"height:2pt\">"
      ]
    },
    {
      "cell_type": "markdown",
      "metadata": {
        "id": "vOMJQ7w10gR-"
      },
      "source": [
        "## Overview\n",
        "\n",
        "The data set is from a fairly high end clothing chain store in the North East. You should be familiar with this data from Exercise 3 where you learnt about feature engineering.\n",
        "\n",
        "You are a data analyst for this store. Your job is to write a report to the pointy-haired boss in which you show how you can increase the store's profit by targeting whom to send a catalog in the mail. Yes, you are in direct marketing. You are a quant amongst the \"mad men\". \n",
        "\n",
        "You need to explore and layout in simple terms, what the business needs to spend to increase its profit. In other words, you need a budget, and its your job to figure out how much as well.\n",
        "\n",
        "We'll guide you through the process. There is much more you can explore, of-course, but this homework will walk you through an entire real world classification and analysis process with a finite amount of work and computer runtime.\n",
        "\n",
        "You will\n",
        "\n",
        "1. learn how to standardize the data\n",
        "2. write a classifier on this data, including cross validation\n",
        "3. learn how to compare this classifier to baseline classifiers that you better beat using a profit metric rather than an accuracy metric\n",
        "4. understand and use prediction thresholds\n",
        "5. understand the use a ROC curve\n",
        "6. learn to use a profit curve to pick a model, thus directly reflecting the metric of importance\n",
        "\n",
        "You have been provided with the cleaned data after numerous feature transformations.\n",
        "\n",
        "The idea for this homework, and the attendant data set is taken from the book \"Data Mining Methods and Models\" by [Larose](http://www.dataminingconsultant.com/DMMM.htm)."
      ]
    },
    {
      "cell_type": "markdown",
      "metadata": {
        "id": "-zkL6J_10gSA"
      },
      "source": [
        "---"
      ]
    },
    {
      "cell_type": "code",
      "metadata": {
        "id": "3XptQVfL0gSB"
      },
      "source": [
        "# Run this cell to import the required libraries\n",
        "\n",
        "%matplotlib inline\n",
        "import numpy as np\n",
        "import scipy as sp\n",
        "from scipy.stats.stats import pearsonr\n",
        "import matplotlib as mpl\n",
        "import matplotlib.cm as cm\n",
        "import matplotlib.pyplot as plt\n",
        "from matplotlib.colors import LogNorm\n",
        "import pandas as pd\n",
        "from sklearn.model_selection import train_test_split\n",
        "from sklearn.model_selection import GridSearchCV\n",
        "from sklearn.metrics import confusion_matrix\n",
        "from sklearn.preprocessing import StandardScaler\n",
        "from sklearn.linear_model import LogisticRegression\n",
        "from sklearn.metrics import roc_curve, auc\n",
        "\n",
        "from sklearn import linear_model\n",
        "from sklearn.metrics import accuracy_score\n",
        "from sklearn.metrics import mean_squared_error\n",
        "\n",
        "import seaborn as sns\n",
        "# sns.set_style(\"whitegrid\")\n",
        "# sns.set_context(\"poster\")\n",
        "\n",
        "sns.set_style()\n",
        "sns.set_context(\"talk\")"
      ],
      "execution_count": null,
      "outputs": []
    },
    {
      "cell_type": "markdown",
      "metadata": {
        "id": "oT_1Ef2y0gSE"
      },
      "source": [
        "## Q1: Test & Training Sets & Standardization (15 points)\n",
        "\n",
        "We standardize test and training sets separately. Specifically, we wish to standardize the non-indicator columns on both the test and training sets, by subtracting out the mean of the training set from the value, and dividing by the standard deviation of the training set. This helps us put all the continuous variables on the same scale."
      ]
    },
    {
      "cell_type": "markdown",
      "metadata": {
        "id": "ZhD2BOsD0gSF"
      },
      "source": [
        "#### 1.1 Train-Test Split (5 points)\n",
        "\n",
        "**Split the data(`dftouse` dataframe) into train and test in 70:30 ratio. Print out the shape of your train and test features and labels. ('X_train','X_test','y_train','y_test')**"
      ]
    },
    {
      "cell_type": "code",
      "metadata": {
        "colab": {
          "base_uri": "https://localhost:8080/"
        },
        "id": "FI4PeH8109Co",
        "outputId": "57e26890-5d88-4e61-d0f7-97c671be150a"
      },
      "source": [
        "!unzip Homework3-master.zip"
      ],
      "execution_count": null,
      "outputs": [
        {
          "output_type": "stream",
          "text": [
            "unzip:  cannot find or open Homework3-master.zip, Homework3-master.zip.zip or Homework3-master.zip.ZIP.\n"
          ],
          "name": "stdout"
        }
      ]
    },
    {
      "cell_type": "code",
      "metadata": {
        "id": "EqOM0NqC0gSH"
      },
      "source": [
        "# loading data from csv file\n",
        "df = pd.read_csv('Cleaned_clothing_store_data.csv')\n",
        "dftouse = df.copy()"
      ],
      "execution_count": null,
      "outputs": []
    },
    {
      "cell_type": "code",
      "metadata": {
        "id": "2pcFHsMl1TTc",
        "colab": {
          "base_uri": "https://localhost:8080/",
          "height": 224
        },
        "outputId": "f6b877b1-95fa-4a8a-ee67-7bbc3b82fa8c"
      },
      "source": [
        "dftouse.head(5)"
      ],
      "execution_count": null,
      "outputs": [
        {
          "output_type": "execute_result",
          "data": {
            "text/html": [
              "<div>\n",
              "<style scoped>\n",
              "    .dataframe tbody tr th:only-of-type {\n",
              "        vertical-align: middle;\n",
              "    }\n",
              "\n",
              "    .dataframe tbody tr th {\n",
              "        vertical-align: top;\n",
              "    }\n",
              "\n",
              "    .dataframe thead th {\n",
              "        text-align: right;\n",
              "    }\n",
              "</style>\n",
              "<table border=\"1\" class=\"dataframe\">\n",
              "  <thead>\n",
              "    <tr style=\"text-align: right;\">\n",
              "      <th></th>\n",
              "      <th>FRE</th>\n",
              "      <th>MON</th>\n",
              "      <th>i_CC_CARD</th>\n",
              "      <th>AVRG</th>\n",
              "      <th>PSWEATERS</th>\n",
              "      <th>PKNIT_TOPS</th>\n",
              "      <th>PKNIT_DRES</th>\n",
              "      <th>PBLOUSES</th>\n",
              "      <th>PJACKETS</th>\n",
              "      <th>PCAR_PNTS</th>\n",
              "      <th>PCAS_PNTS</th>\n",
              "      <th>PSHIRTS</th>\n",
              "      <th>PDRESSES</th>\n",
              "      <th>PSUITS</th>\n",
              "      <th>POUTERWEAR</th>\n",
              "      <th>PJEWELRY</th>\n",
              "      <th>PFASHION</th>\n",
              "      <th>PLEGWEAR</th>\n",
              "      <th>PCOLLSPND</th>\n",
              "      <th>AMSPEND</th>\n",
              "      <th>PSSPEND</th>\n",
              "      <th>CCSPEND</th>\n",
              "      <th>AXSPEND</th>\n",
              "      <th>TMONSPEND</th>\n",
              "      <th>OMONSPEND</th>\n",
              "      <th>SMONSPEND</th>\n",
              "      <th>PREVPD</th>\n",
              "      <th>GMP</th>\n",
              "      <th>PROMOS</th>\n",
              "      <th>DAYS</th>\n",
              "      <th>FREDAYS</th>\n",
              "      <th>MARKDOWN</th>\n",
              "      <th>CLASSES</th>\n",
              "      <th>COUPONS</th>\n",
              "      <th>STYLES</th>\n",
              "      <th>STORES</th>\n",
              "      <th>i_WEB</th>\n",
              "      <th>MAILED</th>\n",
              "      <th>RESPONDED</th>\n",
              "      <th>RESPONSERATE</th>\n",
              "      <th>HI</th>\n",
              "      <th>LTFREDAY</th>\n",
              "      <th>PERCRET</th>\n",
              "      <th>RESP</th>\n",
              "      <th>i_VALPHON</th>\n",
              "      <th>i_PREVPD</th>\n",
              "      <th>i_AMSPEND</th>\n",
              "      <th>i_PSSPEND</th>\n",
              "      <th>i_CCSPEND</th>\n",
              "      <th>i_AXSPEND</th>\n",
              "      <th>i_RESPONDED</th>\n",
              "      <th>i_PERCRET</th>\n",
              "      <th>i_PSWEATERS</th>\n",
              "      <th>i_PKNIT_TOPS</th>\n",
              "      <th>i_PKNIT_DRES</th>\n",
              "      <th>i_PBLOUSES</th>\n",
              "      <th>i_PJACKETS</th>\n",
              "      <th>i_PCAR_PNTS</th>\n",
              "      <th>i_PCAS_PNTS</th>\n",
              "      <th>i_PSHIRTS</th>\n",
              "      <th>i_PDRESSES</th>\n",
              "      <th>i_PSUITS</th>\n",
              "      <th>i_POUTERWEAR</th>\n",
              "      <th>i_PJEWELRY</th>\n",
              "      <th>i_PFASHION</th>\n",
              "      <th>i_PLEGWEAR</th>\n",
              "      <th>i_PCOLLSPND</th>\n",
              "      <th>i_RECENT</th>\n",
              "      <th>i_SAVER</th>\n",
              "    </tr>\n",
              "  </thead>\n",
              "  <tbody>\n",
              "    <tr>\n",
              "      <th>0</th>\n",
              "      <td>2</td>\n",
              "      <td>368.46</td>\n",
              "      <td>0</td>\n",
              "      <td>184.23</td>\n",
              "      <td>0.18</td>\n",
              "      <td>0.00</td>\n",
              "      <td>0.00</td>\n",
              "      <td>0.30</td>\n",
              "      <td>0.0</td>\n",
              "      <td>0.25</td>\n",
              "      <td>0.00</td>\n",
              "      <td>0.19</td>\n",
              "      <td>0.00</td>\n",
              "      <td>0.0</td>\n",
              "      <td>0.0</td>\n",
              "      <td>0.000000</td>\n",
              "      <td>0.02</td>\n",
              "      <td>0.03</td>\n",
              "      <td>0.29</td>\n",
              "      <td>0.0</td>\n",
              "      <td>0.0</td>\n",
              "      <td>368.46</td>\n",
              "      <td>0.0</td>\n",
              "      <td>0.00</td>\n",
              "      <td>0.00</td>\n",
              "      <td>0.00</td>\n",
              "      <td>0.00</td>\n",
              "      <td>0.60</td>\n",
              "      <td>17</td>\n",
              "      <td>666</td>\n",
              "      <td>333.00</td>\n",
              "      <td>0.08</td>\n",
              "      <td>9</td>\n",
              "      <td>1</td>\n",
              "      <td>11</td>\n",
              "      <td>1</td>\n",
              "      <td>0</td>\n",
              "      <td>5</td>\n",
              "      <td>0</td>\n",
              "      <td>0.00</td>\n",
              "      <td>31.81</td>\n",
              "      <td>111.00</td>\n",
              "      <td>0.00</td>\n",
              "      <td>0</td>\n",
              "      <td>0</td>\n",
              "      <td>0</td>\n",
              "      <td>0</td>\n",
              "      <td>0</td>\n",
              "      <td>1</td>\n",
              "      <td>0</td>\n",
              "      <td>0</td>\n",
              "      <td>0</td>\n",
              "      <td>1</td>\n",
              "      <td>0</td>\n",
              "      <td>0</td>\n",
              "      <td>1</td>\n",
              "      <td>0</td>\n",
              "      <td>1</td>\n",
              "      <td>0</td>\n",
              "      <td>1</td>\n",
              "      <td>0</td>\n",
              "      <td>0</td>\n",
              "      <td>0</td>\n",
              "      <td>0</td>\n",
              "      <td>1</td>\n",
              "      <td>1</td>\n",
              "      <td>1</td>\n",
              "      <td>0</td>\n",
              "      <td>1</td>\n",
              "    </tr>\n",
              "    <tr>\n",
              "      <th>1</th>\n",
              "      <td>4</td>\n",
              "      <td>258.00</td>\n",
              "      <td>1</td>\n",
              "      <td>64.50</td>\n",
              "      <td>0.26</td>\n",
              "      <td>0.16</td>\n",
              "      <td>0.00</td>\n",
              "      <td>0.00</td>\n",
              "      <td>0.0</td>\n",
              "      <td>0.18</td>\n",
              "      <td>0.14</td>\n",
              "      <td>0.00</td>\n",
              "      <td>0.18</td>\n",
              "      <td>0.0</td>\n",
              "      <td>0.0</td>\n",
              "      <td>0.000000</td>\n",
              "      <td>0.00</td>\n",
              "      <td>0.02</td>\n",
              "      <td>0.37</td>\n",
              "      <td>0.0</td>\n",
              "      <td>0.0</td>\n",
              "      <td>258.00</td>\n",
              "      <td>0.0</td>\n",
              "      <td>138.00</td>\n",
              "      <td>55.99</td>\n",
              "      <td>258.00</td>\n",
              "      <td>0.00</td>\n",
              "      <td>0.54</td>\n",
              "      <td>14</td>\n",
              "      <td>696</td>\n",
              "      <td>174.00</td>\n",
              "      <td>0.33</td>\n",
              "      <td>6</td>\n",
              "      <td>0</td>\n",
              "      <td>14</td>\n",
              "      <td>1</td>\n",
              "      <td>0</td>\n",
              "      <td>4</td>\n",
              "      <td>2</td>\n",
              "      <td>50.00</td>\n",
              "      <td>32.72</td>\n",
              "      <td>43.50</td>\n",
              "      <td>0.03</td>\n",
              "      <td>1</td>\n",
              "      <td>1</td>\n",
              "      <td>0</td>\n",
              "      <td>0</td>\n",
              "      <td>0</td>\n",
              "      <td>1</td>\n",
              "      <td>0</td>\n",
              "      <td>1</td>\n",
              "      <td>1</td>\n",
              "      <td>1</td>\n",
              "      <td>1</td>\n",
              "      <td>0</td>\n",
              "      <td>0</td>\n",
              "      <td>0</td>\n",
              "      <td>1</td>\n",
              "      <td>1</td>\n",
              "      <td>0</td>\n",
              "      <td>1</td>\n",
              "      <td>0</td>\n",
              "      <td>0</td>\n",
              "      <td>0</td>\n",
              "      <td>0</td>\n",
              "      <td>1</td>\n",
              "      <td>1</td>\n",
              "      <td>1</td>\n",
              "      <td>1</td>\n",
              "    </tr>\n",
              "    <tr>\n",
              "      <th>2</th>\n",
              "      <td>2</td>\n",
              "      <td>77.00</td>\n",
              "      <td>0</td>\n",
              "      <td>38.50</td>\n",
              "      <td>1.00</td>\n",
              "      <td>0.00</td>\n",
              "      <td>0.00</td>\n",
              "      <td>0.00</td>\n",
              "      <td>0.0</td>\n",
              "      <td>0.00</td>\n",
              "      <td>0.00</td>\n",
              "      <td>0.00</td>\n",
              "      <td>0.00</td>\n",
              "      <td>0.0</td>\n",
              "      <td>0.0</td>\n",
              "      <td>0.000000</td>\n",
              "      <td>0.00</td>\n",
              "      <td>0.00</td>\n",
              "      <td>0.00</td>\n",
              "      <td>0.0</td>\n",
              "      <td>0.0</td>\n",
              "      <td>77.00</td>\n",
              "      <td>0.0</td>\n",
              "      <td>0.00</td>\n",
              "      <td>0.00</td>\n",
              "      <td>0.00</td>\n",
              "      <td>39.00</td>\n",
              "      <td>0.62</td>\n",
              "      <td>10</td>\n",
              "      <td>343</td>\n",
              "      <td>171.50</td>\n",
              "      <td>0.11</td>\n",
              "      <td>1</td>\n",
              "      <td>0</td>\n",
              "      <td>2</td>\n",
              "      <td>1</td>\n",
              "      <td>0</td>\n",
              "      <td>4</td>\n",
              "      <td>0</td>\n",
              "      <td>0.00</td>\n",
              "      <td>100.00</td>\n",
              "      <td>68.60</td>\n",
              "      <td>0.00</td>\n",
              "      <td>0</td>\n",
              "      <td>0</td>\n",
              "      <td>1</td>\n",
              "      <td>0</td>\n",
              "      <td>0</td>\n",
              "      <td>1</td>\n",
              "      <td>0</td>\n",
              "      <td>0</td>\n",
              "      <td>0</td>\n",
              "      <td>1</td>\n",
              "      <td>0</td>\n",
              "      <td>0</td>\n",
              "      <td>0</td>\n",
              "      <td>0</td>\n",
              "      <td>0</td>\n",
              "      <td>0</td>\n",
              "      <td>0</td>\n",
              "      <td>0</td>\n",
              "      <td>0</td>\n",
              "      <td>0</td>\n",
              "      <td>0</td>\n",
              "      <td>0</td>\n",
              "      <td>0</td>\n",
              "      <td>0</td>\n",
              "      <td>0</td>\n",
              "      <td>1</td>\n",
              "    </tr>\n",
              "    <tr>\n",
              "      <th>3</th>\n",
              "      <td>8</td>\n",
              "      <td>846.06</td>\n",
              "      <td>1</td>\n",
              "      <td>105.75</td>\n",
              "      <td>0.38</td>\n",
              "      <td>0.00</td>\n",
              "      <td>0.05</td>\n",
              "      <td>0.06</td>\n",
              "      <td>0.2</td>\n",
              "      <td>0.17</td>\n",
              "      <td>0.00</td>\n",
              "      <td>0.05</td>\n",
              "      <td>0.00</td>\n",
              "      <td>0.0</td>\n",
              "      <td>0.0</td>\n",
              "      <td>0.005307</td>\n",
              "      <td>0.03</td>\n",
              "      <td>0.01</td>\n",
              "      <td>0.00</td>\n",
              "      <td>0.0</td>\n",
              "      <td>0.0</td>\n",
              "      <td>846.06</td>\n",
              "      <td>0.0</td>\n",
              "      <td>104.94</td>\n",
              "      <td>0.00</td>\n",
              "      <td>373.87</td>\n",
              "      <td>166.25</td>\n",
              "      <td>0.43</td>\n",
              "      <td>24</td>\n",
              "      <td>701</td>\n",
              "      <td>87.62</td>\n",
              "      <td>0.29</td>\n",
              "      <td>15</td>\n",
              "      <td>3</td>\n",
              "      <td>35</td>\n",
              "      <td>1</td>\n",
              "      <td>0</td>\n",
              "      <td>9</td>\n",
              "      <td>6</td>\n",
              "      <td>66.67</td>\n",
              "      <td>23.27</td>\n",
              "      <td>26.96</td>\n",
              "      <td>0.00</td>\n",
              "      <td>0</td>\n",
              "      <td>1</td>\n",
              "      <td>1</td>\n",
              "      <td>0</td>\n",
              "      <td>0</td>\n",
              "      <td>1</td>\n",
              "      <td>0</td>\n",
              "      <td>1</td>\n",
              "      <td>0</td>\n",
              "      <td>1</td>\n",
              "      <td>0</td>\n",
              "      <td>1</td>\n",
              "      <td>1</td>\n",
              "      <td>1</td>\n",
              "      <td>1</td>\n",
              "      <td>0</td>\n",
              "      <td>1</td>\n",
              "      <td>0</td>\n",
              "      <td>0</td>\n",
              "      <td>0</td>\n",
              "      <td>1</td>\n",
              "      <td>1</td>\n",
              "      <td>1</td>\n",
              "      <td>0</td>\n",
              "      <td>1</td>\n",
              "      <td>1</td>\n",
              "    </tr>\n",
              "    <tr>\n",
              "      <th>4</th>\n",
              "      <td>1</td>\n",
              "      <td>87.44</td>\n",
              "      <td>0</td>\n",
              "      <td>87.44</td>\n",
              "      <td>0.20</td>\n",
              "      <td>0.20</td>\n",
              "      <td>0.00</td>\n",
              "      <td>0.00</td>\n",
              "      <td>0.0</td>\n",
              "      <td>0.00</td>\n",
              "      <td>0.41</td>\n",
              "      <td>0.00</td>\n",
              "      <td>0.00</td>\n",
              "      <td>0.0</td>\n",
              "      <td>0.0</td>\n",
              "      <td>0.170000</td>\n",
              "      <td>0.00</td>\n",
              "      <td>0.00</td>\n",
              "      <td>0.00</td>\n",
              "      <td>0.0</td>\n",
              "      <td>0.0</td>\n",
              "      <td>87.44</td>\n",
              "      <td>0.0</td>\n",
              "      <td>87.44</td>\n",
              "      <td>0.00</td>\n",
              "      <td>87.44</td>\n",
              "      <td>0.00</td>\n",
              "      <td>0.22</td>\n",
              "      <td>0</td>\n",
              "      <td>49</td>\n",
              "      <td>49.00</td>\n",
              "      <td>0.42</td>\n",
              "      <td>4</td>\n",
              "      <td>0</td>\n",
              "      <td>8</td>\n",
              "      <td>1</td>\n",
              "      <td>0</td>\n",
              "      <td>0</td>\n",
              "      <td>0</td>\n",
              "      <td>0.00</td>\n",
              "      <td>28.52</td>\n",
              "      <td>24.50</td>\n",
              "      <td>0.00</td>\n",
              "      <td>0</td>\n",
              "      <td>1</td>\n",
              "      <td>0</td>\n",
              "      <td>0</td>\n",
              "      <td>0</td>\n",
              "      <td>1</td>\n",
              "      <td>0</td>\n",
              "      <td>0</td>\n",
              "      <td>0</td>\n",
              "      <td>1</td>\n",
              "      <td>1</td>\n",
              "      <td>0</td>\n",
              "      <td>0</td>\n",
              "      <td>0</td>\n",
              "      <td>0</td>\n",
              "      <td>1</td>\n",
              "      <td>0</td>\n",
              "      <td>0</td>\n",
              "      <td>0</td>\n",
              "      <td>0</td>\n",
              "      <td>1</td>\n",
              "      <td>0</td>\n",
              "      <td>0</td>\n",
              "      <td>0</td>\n",
              "      <td>1</td>\n",
              "      <td>1</td>\n",
              "    </tr>\n",
              "  </tbody>\n",
              "</table>\n",
              "</div>"
            ],
            "text/plain": [
              "   FRE     MON  i_CC_CARD    AVRG  ...  i_PLEGWEAR  i_PCOLLSPND  i_RECENT  i_SAVER\n",
              "0    2  368.46          0  184.23  ...           1            1         0        1\n",
              "1    4  258.00          1   64.50  ...           1            1         1        1\n",
              "2    2   77.00          0   38.50  ...           0            0         0        1\n",
              "3    8  846.06          1  105.75  ...           1            0         1        1\n",
              "4    1   87.44          0   87.44  ...           0            0         1        1\n",
              "\n",
              "[5 rows x 69 columns]"
            ]
          },
          "metadata": {
            "tags": []
          },
          "execution_count": 17
        }
      ]
    },
    {
      "cell_type": "code",
      "metadata": {
        "id": "1JJw7pl_0gSI"
      },
      "source": [
        "# your code here\r\n",
        "X = dftouse.drop('RESP', axis=1)\r\n",
        "y = dftouse['RESP']"
      ],
      "execution_count": null,
      "outputs": []
    },
    {
      "cell_type": "code",
      "metadata": {
        "id": "5mouMXQr9QSM"
      },
      "source": [
        "X_train, X_test, y_train, y_test = train_test_split(X, y, test_size=0.3, random_state=0)"
      ],
      "execution_count": null,
      "outputs": []
    },
    {
      "cell_type": "markdown",
      "metadata": {
        "id": "z8qzbsME0gSJ"
      },
      "source": [
        "#### 1.2 Standardizing data (5 points)\n",
        "\n",
        "Listed below are continuous features or variables that need to be standardized.\n",
        "\n",
        "`PERCENT_VARS`: 15 variables providing the percentages spent by the customer on specific classes of clothing, including sweaters, knit tops, knit dresses, blouses, jackets, career pants, casual pants, shirts, dresses, suits, outerwear, jewelry, fashion, legwear, and the collectibles line(`P*`, `PJACKETS` for example)\n",
        "\n",
        "`ZERO_IMPORTANT_VARS`: These are columns where the existence or lack thereof of a zero may be important in a classifier. We used our intuition to make these choices, believing that there is additional information encoded in having zeroes vs non-zeroes\n",
        "\n",
        "`STANDARDIZABLE`: These are continuous columns(features) that need to be brought to the same scale. They include `PERCENT_VARS` and `ZERO_IMPORTANT_VARS` and a few other columns as well"
      ]
    },
    {
      "cell_type": "code",
      "metadata": {
        "id": "tXbYMGYf0gSK"
      },
      "source": [
        "# Run this cell to get the Standardizable features\n",
        "\n",
        "PERCENT_VARS=[ u'PSWEATERS', u'PKNIT_TOPS', u'PKNIT_DRES', u'PBLOUSES', u'PJACKETS', u'PCAR_PNTS', u'PCAS_PNTS', u'PSHIRTS', \n",
        "              u'PDRESSES', u'PSUITS', u'POUTERWEAR', u'PJEWELRY', u'PFASHION', u'PLEGWEAR', u'PCOLLSPND']\n",
        "ZERO_IMPORTANT_VARS = [u'PREVPD', u'AMSPEND', u'PSSPEND', u'CCSPEND', u'AXSPEND', u'RESPONDED', u'PERCRET']\n",
        "STANDARDIZABLE = PERCENT_VARS + ZERO_IMPORTANT_VARS + [u'FRE', u'MON',  u'AVRG', u'GMP', u'PROMOS', u'DAYS', u'FREDAYS', u'MARKDOWN', u'CLASSES', u'COUPONS', u'STYLES',  u'MAILED',  u'RESPONSERATE', u'HI', u'LTFREDAY']"
      ],
      "execution_count": null,
      "outputs": []
    },
    {
      "cell_type": "markdown",
      "metadata": {
        "id": "kt4ZT4740gSL"
      },
      "source": [
        "**1.2 a) Use `StandardScaler` from `sklearn.preprocessing` to \"fit\" the columns in `STANDRARDIZABLE` on the training set. Then use the resultant estimator to transform both the training and the test parts of each of the columns in the dataframe, replacing the old unstandardized values in the `STANDARDIZABLE` columns of `dftouse` by the new standardized ones.**"
      ]
    },
    {
      "cell_type": "code",
      "metadata": {
        "id": "LbsWgD4A0gSM"
      },
      "source": [
        "# #your code here\r\n",
        "scaler = StandardScaler()\r\n",
        "\r\n",
        "X_train_scale = scaler.fit_transform(X_train[STANDARDIZABLE])\r\n",
        "X_test_scale = scaler.fit_transform(X_test[STANDARDIZABLE])\r\n",
        "\r\n",
        "X_train_scaled = pd.DataFrame(X_train_scale, columns = STANDARDIZABLE)\r\n",
        "X_test_scaled = pd.DataFrame(X_test_scale , columns = STANDARDIZABLE)"
      ],
      "execution_count": null,
      "outputs": []
    },
    {
      "cell_type": "markdown",
      "metadata": {
        "id": "gmtWAYtV0gSN"
      },
      "source": [
        "**1.2 b) Should standardization be done on all the data or should it be done separately on the training & test sets? Explain with your reasoning**"
      ]
    },
    {
      "cell_type": "markdown",
      "metadata": {
        "id": "7ezNIsot0gSO"
      },
      "source": [
        "*your answer here*"
      ]
    },
    {
      "cell_type": "markdown",
      "metadata": {
        "id": "UELJ_FoD0gSP"
      },
      "source": [
        "## Q2: Classification with Lasso (L1) regularization (30 points)\n",
        "\n",
        "We will now take this data and write a classifier to predict the response, which is in the `RESP` column of `dftouse`. This response corresponds to asking the question: will a user targeted with our advertisement respond or not?"
      ]
    },
    {
      "cell_type": "markdown",
      "metadata": {
        "id": "ft7l6xvf0gSQ"
      },
      "source": [
        "#### 2.1 Baseline Classifiers (4 points)\n",
        "\n",
        "**2.1 a) What is the accuracy of a classifier that predicts that `no customer will respond to our mailing`? Why do you think the accuracy is the way it is?**"
      ]
    },
    {
      "cell_type": "code",
      "metadata": {
        "id": "Cvi1GTRHDtit",
        "colab": {
          "base_uri": "https://localhost:8080/"
        },
        "outputId": "76431727-af5e-47a7-9cd5-17ca7eb18bd8"
      },
      "source": [
        "# your code here\r\n",
        "lasso_clf = linear_model.Lasso(alpha=0.1)\r\n",
        "lasso_clf.fit(X_train_scaled, y_train)\r\n",
        "\r\n",
        "y_train_pred = lasso_clf.predict(X_train_scaled)\r\n",
        "y_test_pred = lasso_clf.predict(X_test_scaled)\r\n",
        "\r\n",
        "print(mean_squared_error(y_train_pred, y_train))\r\n",
        "print(mean_squared_error(y_test_pred, y_test))\r\n",
        "# print(\"Accuracy score of train data= {}%\".format(np.around(accuracy_score(Y_test,y_test_pred)*100,2)))\r\n",
        "# print(\"Accuracy score of test  data= {}%\".format(np.around(accuracy_score(Y_train,y_train_pred)*100,2)))"
      ],
      "execution_count": null,
      "outputs": [
        {
          "output_type": "stream",
          "text": [
            "0.12418253346969531\n",
            "0.1285613676045747\n"
          ],
          "name": "stdout"
        }
      ]
    },
    {
      "cell_type": "code",
      "metadata": {
        "colab": {
          "base_uri": "https://localhost:8080/"
        },
        "id": "DlnVxrlJMufp",
        "outputId": "bc47946e-9e38-45c3-de4c-67b94c2a3923"
      },
      "source": [
        "y_train_pred"
      ],
      "execution_count": null,
      "outputs": [
        {
          "output_type": "execute_result",
          "data": {
            "text/plain": [
              "array([0.14769685, 0.1396913 , 0.15570239, ..., 0.24376339, 0.25176893,\n",
              "       0.20373566])"
            ]
          },
          "metadata": {
            "tags": []
          },
          "execution_count": 23
        }
      ]
    },
    {
      "cell_type": "markdown",
      "metadata": {
        "id": "-Xba2xOz0gST"
      },
      "source": [
        "**2.1 b) What is the accuracy of a classifier that predicts that `all customers will respond to our mailing`?**"
      ]
    },
    {
      "cell_type": "code",
      "metadata": {
        "id": "XgbZ4AeP0gSU"
      },
      "source": [
        "# your code here"
      ],
      "execution_count": null,
      "outputs": []
    },
    {
      "cell_type": "markdown",
      "metadata": {
        "id": "yc1NyFsD0gSV"
      },
      "source": [
        "#### 2.2 Classification Model - Logistic with Lasso (L1) (21 points)\n",
        "\n",
        "**2.2 a) Train a Logistic Regression Model with L1 regularization. Take all columns as features apart from the response variable `RESP`. Fine-tune your model by performing 5-fold CV (use the helper function below) to find the best value of the hyper-parameter 'C' from the follwing values: *'{0.001,0.01,0.1,1,10,100}'*.**"
      ]
    },
    {
      "cell_type": "code",
      "metadata": {
        "id": "HkG9MfNT0gSW"
      },
      "source": [
        "# helper function for cross-validation\n",
        "def cv_optimize(clf, parameters, X, y, n_folds):\n",
        "\n",
        "    gs = GridSearchCV(clf, param_grid=parameters, cv=n_folds)\n",
        "    gs.fit(X, y)\n",
        "    print(\"BEST\", gs.best_params_, gs.best_score_)\n",
        "    best = gs.best_estimator_\n",
        "    return best"
      ],
      "execution_count": null,
      "outputs": []
    },
    {
      "cell_type": "code",
      "metadata": {
        "id": "L89BSPDt0gSX",
        "colab": {
          "base_uri": "https://localhost:8080/"
        },
        "outputId": "80160dfc-f23f-4b48-9bbb-f3ab5750a511"
      },
      "source": [
        "# your code here\r\n",
        "log_clf = LogisticRegression()\r\n",
        "cv_optimize(log_clf, {'C': [0.001,0.01,0.1,1,10,100]}, X_train_scaled, y_train, 5)"
      ],
      "execution_count": null,
      "outputs": [
        {
          "output_type": "stream",
          "text": [
            "BEST {'C': 1} 0.8549744075608352\n"
          ],
          "name": "stdout"
        },
        {
          "output_type": "execute_result",
          "data": {
            "text/plain": [
              "LogisticRegression(C=1, class_weight=None, dual=False, fit_intercept=True,\n",
              "                   intercept_scaling=1, l1_ratio=None, max_iter=100,\n",
              "                   multi_class='auto', n_jobs=None, penalty='l2',\n",
              "                   random_state=None, solver='lbfgs', tol=0.0001, verbose=0,\n",
              "                   warm_start=False)"
            ]
          },
          "metadata": {
            "tags": []
          },
          "execution_count": 26
        }
      ]
    },
    {
      "cell_type": "code",
      "metadata": {
        "colab": {
          "base_uri": "https://localhost:8080/"
        },
        "id": "B2pq8rkx1IDA",
        "outputId": "f062069b-b1a0-49cd-dffb-d49d67f1e0dc"
      },
      "source": [
        "logrec = LogisticRegression(C=1, penalty='l1', solver='liblinear')\r\n",
        "logrec.fit(X_train_scaled, y_train)"
      ],
      "execution_count": null,
      "outputs": [
        {
          "output_type": "execute_result",
          "data": {
            "text/plain": [
              "LogisticRegression(C=1, class_weight=None, dual=False, fit_intercept=True,\n",
              "                   intercept_scaling=1, l1_ratio=None, max_iter=100,\n",
              "                   multi_class='auto', n_jobs=None, penalty='l1',\n",
              "                   random_state=None, solver='liblinear', tol=0.0001, verbose=0,\n",
              "                   warm_start=False)"
            ]
          },
          "metadata": {
            "tags": []
          },
          "execution_count": 27
        }
      ]
    },
    {
      "cell_type": "markdown",
      "metadata": {
        "id": "iGuUDceM0gSY"
      },
      "source": [
        "**2.2 b) The Lasso implements internally, a form of feature selection by setting many coefficients to zero. Print the top 10 non-zero coefficient features from the classifier sorted by the absolute magnitude of the coefficients (highest to lowest)**"
      ]
    },
    {
      "cell_type": "code",
      "metadata": {
        "id": "sfSLDsaq0gSZ",
        "colab": {
          "base_uri": "https://localhost:8080/",
          "height": 359
        },
        "outputId": "5a488e52-e106-41f9-8926-7bece73822a2"
      },
      "source": [
        "# your code here\r\n",
        "feature_coff_df = pd.DataFrame()\r\n",
        "feature_coff_df['Feature'] = X_train_scaled.columns\r\n",
        "feature_coff_df['coef'] = logrec.coef_[0]\r\n",
        "feature_coff_df['coef'] = feature_coff_df['coef'].abs()\r\n",
        "\r\n",
        "feature_coff_df.sort_values(by=['coef'], ascending=False).head(10)"
      ],
      "execution_count": null,
      "outputs": [
        {
          "output_type": "execute_result",
          "data": {
            "text/html": [
              "<div>\n",
              "<style scoped>\n",
              "    .dataframe tbody tr th:only-of-type {\n",
              "        vertical-align: middle;\n",
              "    }\n",
              "\n",
              "    .dataframe tbody tr th {\n",
              "        vertical-align: top;\n",
              "    }\n",
              "\n",
              "    .dataframe thead th {\n",
              "        text-align: right;\n",
              "    }\n",
              "</style>\n",
              "<table border=\"1\" class=\"dataframe\">\n",
              "  <thead>\n",
              "    <tr style=\"text-align: right;\">\n",
              "      <th></th>\n",
              "      <th>Feature</th>\n",
              "      <th>coef</th>\n",
              "    </tr>\n",
              "  </thead>\n",
              "  <tbody>\n",
              "    <tr>\n",
              "      <th>36</th>\n",
              "      <td>LTFREDAY</td>\n",
              "      <td>3.373270</td>\n",
              "    </tr>\n",
              "    <tr>\n",
              "      <th>28</th>\n",
              "      <td>FREDAYS</td>\n",
              "      <td>0.482129</td>\n",
              "    </tr>\n",
              "    <tr>\n",
              "      <th>22</th>\n",
              "      <td>FRE</td>\n",
              "      <td>0.367878</td>\n",
              "    </tr>\n",
              "    <tr>\n",
              "      <th>27</th>\n",
              "      <td>DAYS</td>\n",
              "      <td>0.286270</td>\n",
              "    </tr>\n",
              "    <tr>\n",
              "      <th>20</th>\n",
              "      <td>RESPONDED</td>\n",
              "      <td>0.141955</td>\n",
              "    </tr>\n",
              "    <tr>\n",
              "      <th>34</th>\n",
              "      <td>RESPONSERATE</td>\n",
              "      <td>0.112531</td>\n",
              "    </tr>\n",
              "    <tr>\n",
              "      <th>35</th>\n",
              "      <td>HI</td>\n",
              "      <td>0.086368</td>\n",
              "    </tr>\n",
              "    <tr>\n",
              "      <th>18</th>\n",
              "      <td>CCSPEND</td>\n",
              "      <td>0.086196</td>\n",
              "    </tr>\n",
              "    <tr>\n",
              "      <th>24</th>\n",
              "      <td>AVRG</td>\n",
              "      <td>0.082733</td>\n",
              "    </tr>\n",
              "    <tr>\n",
              "      <th>32</th>\n",
              "      <td>STYLES</td>\n",
              "      <td>0.080650</td>\n",
              "    </tr>\n",
              "  </tbody>\n",
              "</table>\n",
              "</div>"
            ],
            "text/plain": [
              "         Feature      coef\n",
              "36      LTFREDAY  3.373270\n",
              "28       FREDAYS  0.482129\n",
              "22           FRE  0.367878\n",
              "27          DAYS  0.286270\n",
              "20     RESPONDED  0.141955\n",
              "34  RESPONSERATE  0.112531\n",
              "35            HI  0.086368\n",
              "18       CCSPEND  0.086196\n",
              "24          AVRG  0.082733\n",
              "32        STYLES  0.080650"
            ]
          },
          "metadata": {
            "tags": []
          },
          "execution_count": 28
        }
      ]
    },
    {
      "cell_type": "markdown",
      "metadata": {
        "id": "LzHVCh4f0gSa"
      },
      "source": [
        "We can also get a notion of which features are important in the classification process by seeing how they correlate with the response. This can be done using the Pearson correlation coefficient between each of our features and the response.\n",
        "\n",
        "The Pearson correlation method is the most common method to use for numerical variables; it assigns a value between − 1 and 1, where 0 is no correlation, 1 is total positive correlation, and − 1 is total negative correlation. This is interpreted as follows: a correlation value of 0.7 between two variables would indicate that a significant and positive relationship exists between the two. A positive correlation signifies that if variable A goes up, then B will also go up, whereas if the value of the correlation is negative, then if A increases, B decreases."
      ]
    },
    {
      "cell_type": "markdown",
      "metadata": {
        "id": "afmjsWWu0gSb"
      },
      "source": [
        "**2.2 c) Implement some code to obtain the Pearson correlation coefficient between each of our features and the response. Do this on the training set only! Create a dataframe indexed by the features, which has columns `abscorr` the absolute value of the correlation and `corr` the value of the correlation. Sort the dataframe by `abscorr`, highest first, and show the top 25 features with the highest absolute correlation.**\n",
        "\n",
        "**Is there much overlap with the feature selection performed by the LASSO?**\n",
        "\n",
        "*Hint* : Use `pearsonr` from `scipy.stats.stats`. This has already been imported at the beginning"
      ]
    },
    {
      "cell_type": "code",
      "metadata": {
        "id": "n3nNUOd40gSc",
        "colab": {
          "base_uri": "https://localhost:8080/",
          "height": 824
        },
        "outputId": "c396ffc5-ad74-470f-da6c-37c925193768"
      },
      "source": [
        "# your code here\r\n",
        "df_list = []\r\n",
        "index_list = []\r\n",
        "for col in X_train_scaled.columns:\r\n",
        "  corr, _ = pearsonr(X_train_scaled[col], y_train)\r\n",
        "  index_list.append(col)\r\n",
        "  df_list.append([abs(corr), corr])\r\n",
        "\r\n",
        "pd.DataFrame(df_list, columns=['abscorr', 'corr'],  index=index_list).sort_values(by=['abscorr'], ascending=False).head(25)"
      ],
      "execution_count": null,
      "outputs": [
        {
          "output_type": "execute_result",
          "data": {
            "text/html": [
              "<div>\n",
              "<style scoped>\n",
              "    .dataframe tbody tr th:only-of-type {\n",
              "        vertical-align: middle;\n",
              "    }\n",
              "\n",
              "    .dataframe tbody tr th {\n",
              "        vertical-align: top;\n",
              "    }\n",
              "\n",
              "    .dataframe thead th {\n",
              "        text-align: right;\n",
              "    }\n",
              "</style>\n",
              "<table border=\"1\" class=\"dataframe\">\n",
              "  <thead>\n",
              "    <tr style=\"text-align: right;\">\n",
              "      <th></th>\n",
              "      <th>abscorr</th>\n",
              "      <th>corr</th>\n",
              "    </tr>\n",
              "  </thead>\n",
              "  <tbody>\n",
              "    <tr>\n",
              "      <th>FRE</th>\n",
              "      <td>0.409616</td>\n",
              "      <td>0.409616</td>\n",
              "    </tr>\n",
              "    <tr>\n",
              "      <th>CLASSES</th>\n",
              "      <td>0.373647</td>\n",
              "      <td>0.373647</td>\n",
              "    </tr>\n",
              "    <tr>\n",
              "      <th>STYLES</th>\n",
              "      <td>0.358521</td>\n",
              "      <td>0.358521</td>\n",
              "    </tr>\n",
              "    <tr>\n",
              "      <th>RESPONDED</th>\n",
              "      <td>0.354673</td>\n",
              "      <td>0.354673</td>\n",
              "    </tr>\n",
              "    <tr>\n",
              "      <th>RESPONSERATE</th>\n",
              "      <td>0.332322</td>\n",
              "      <td>0.332322</td>\n",
              "    </tr>\n",
              "    <tr>\n",
              "      <th>MON</th>\n",
              "      <td>0.316014</td>\n",
              "      <td>0.316014</td>\n",
              "    </tr>\n",
              "    <tr>\n",
              "      <th>COUPONS</th>\n",
              "      <td>0.313147</td>\n",
              "      <td>0.313147</td>\n",
              "    </tr>\n",
              "    <tr>\n",
              "      <th>LTFREDAY</th>\n",
              "      <td>0.306269</td>\n",
              "      <td>-0.306269</td>\n",
              "    </tr>\n",
              "    <tr>\n",
              "      <th>CCSPEND</th>\n",
              "      <td>0.234858</td>\n",
              "      <td>0.234858</td>\n",
              "    </tr>\n",
              "    <tr>\n",
              "      <th>PROMOS</th>\n",
              "      <td>0.228905</td>\n",
              "      <td>0.228905</td>\n",
              "    </tr>\n",
              "    <tr>\n",
              "      <th>HI</th>\n",
              "      <td>0.225463</td>\n",
              "      <td>-0.225463</td>\n",
              "    </tr>\n",
              "    <tr>\n",
              "      <th>FREDAYS</th>\n",
              "      <td>0.224227</td>\n",
              "      <td>-0.224227</td>\n",
              "    </tr>\n",
              "    <tr>\n",
              "      <th>MAILED</th>\n",
              "      <td>0.214897</td>\n",
              "      <td>0.214897</td>\n",
              "    </tr>\n",
              "    <tr>\n",
              "      <th>PSSPEND</th>\n",
              "      <td>0.201754</td>\n",
              "      <td>0.201754</td>\n",
              "    </tr>\n",
              "    <tr>\n",
              "      <th>DAYS</th>\n",
              "      <td>0.194323</td>\n",
              "      <td>0.194323</td>\n",
              "    </tr>\n",
              "    <tr>\n",
              "      <th>PREVPD</th>\n",
              "      <td>0.159192</td>\n",
              "      <td>0.159192</td>\n",
              "    </tr>\n",
              "    <tr>\n",
              "      <th>AXSPEND</th>\n",
              "      <td>0.111962</td>\n",
              "      <td>0.111962</td>\n",
              "    </tr>\n",
              "    <tr>\n",
              "      <th>MARKDOWN</th>\n",
              "      <td>0.099584</td>\n",
              "      <td>0.099584</td>\n",
              "    </tr>\n",
              "    <tr>\n",
              "      <th>PERCRET</th>\n",
              "      <td>0.080447</td>\n",
              "      <td>0.080447</td>\n",
              "    </tr>\n",
              "    <tr>\n",
              "      <th>AVRG</th>\n",
              "      <td>0.068465</td>\n",
              "      <td>-0.068465</td>\n",
              "    </tr>\n",
              "    <tr>\n",
              "      <th>GMP</th>\n",
              "      <td>0.052615</td>\n",
              "      <td>-0.052615</td>\n",
              "    </tr>\n",
              "    <tr>\n",
              "      <th>AMSPEND</th>\n",
              "      <td>0.043485</td>\n",
              "      <td>0.043485</td>\n",
              "    </tr>\n",
              "    <tr>\n",
              "      <th>PCOLLSPND</th>\n",
              "      <td>0.040725</td>\n",
              "      <td>-0.040725</td>\n",
              "    </tr>\n",
              "    <tr>\n",
              "      <th>PSUITS</th>\n",
              "      <td>0.035312</td>\n",
              "      <td>-0.035312</td>\n",
              "    </tr>\n",
              "    <tr>\n",
              "      <th>PSWEATERS</th>\n",
              "      <td>0.027533</td>\n",
              "      <td>-0.027533</td>\n",
              "    </tr>\n",
              "  </tbody>\n",
              "</table>\n",
              "</div>"
            ],
            "text/plain": [
              "               abscorr      corr\n",
              "FRE           0.409616  0.409616\n",
              "CLASSES       0.373647  0.373647\n",
              "STYLES        0.358521  0.358521\n",
              "RESPONDED     0.354673  0.354673\n",
              "RESPONSERATE  0.332322  0.332322\n",
              "MON           0.316014  0.316014\n",
              "COUPONS       0.313147  0.313147\n",
              "LTFREDAY      0.306269 -0.306269\n",
              "CCSPEND       0.234858  0.234858\n",
              "PROMOS        0.228905  0.228905\n",
              "HI            0.225463 -0.225463\n",
              "FREDAYS       0.224227 -0.224227\n",
              "MAILED        0.214897  0.214897\n",
              "PSSPEND       0.201754  0.201754\n",
              "DAYS          0.194323  0.194323\n",
              "PREVPD        0.159192  0.159192\n",
              "AXSPEND       0.111962  0.111962\n",
              "MARKDOWN      0.099584  0.099584\n",
              "PERCRET       0.080447  0.080447\n",
              "AVRG          0.068465 -0.068465\n",
              "GMP           0.052615 -0.052615\n",
              "AMSPEND       0.043485  0.043485\n",
              "PCOLLSPND     0.040725 -0.040725\n",
              "PSUITS        0.035312 -0.035312\n",
              "PSWEATERS     0.027533 -0.027533"
            ]
          },
          "metadata": {
            "tags": []
          },
          "execution_count": 29
        }
      ]
    },
    {
      "cell_type": "markdown",
      "metadata": {
        "id": "CgNnDghc0gSd"
      },
      "source": [
        "*your answer here*"
      ]
    },
    {
      "cell_type": "markdown",
      "metadata": {
        "id": "zWhw0poS0gSe"
      },
      "source": [
        "**2.2 d) Compare the accuracy of this classifier with the `no customer responds baseline` model. Does this classifier seem worthwhile pursuing?**"
      ]
    },
    {
      "cell_type": "markdown",
      "metadata": {
        "id": "uty3OFCg0gSf"
      },
      "source": [
        "*your answer here*\n",
        "\n"
      ]
    },
    {
      "cell_type": "markdown",
      "metadata": {
        "id": "8Tw2W2Bf0gSg"
      },
      "source": [
        "**2.2 e) Is accuracy really the best metric to evaluate the models above? Why/Why not?**"
      ]
    },
    {
      "cell_type": "markdown",
      "metadata": {
        "id": "YSZfnxlL0gSg"
      },
      "source": [
        "Accuracy is not the beat way to evaluate model in case of biased dataset \n",
        "\n"
      ]
    },
    {
      "cell_type": "markdown",
      "metadata": {
        "id": "qDfi6Dn50gSh"
      },
      "source": [
        "#### 2.3 Prediction (5 points)\n",
        "\n",
        "**Print out the accuracy on the train and test set separately**"
      ]
    },
    {
      "cell_type": "code",
      "metadata": {
        "id": "T6uCh98C0gSi",
        "colab": {
          "base_uri": "https://localhost:8080/"
        },
        "outputId": "40ad662e-8cab-4501-a3aa-2df116070c38"
      },
      "source": [
        "# your code here\r\n",
        "from sklearn.metrics import accuracy_score\r\n",
        "\r\n",
        "y_train_pred_log = logrec.predict(X_train_scaled)\r\n",
        "y_test_pred_log = logrec.predict(X_test_scaled)\r\n",
        "\r\n",
        "print(\"Accuracy score of test  data= {}%\".format(np.around(accuracy_score(y_train,y_train_pred_log)*100,2)))\r\n",
        "print(\"Accuracy score of train data= {}%\".format(np.around(accuracy_score(y_test,y_test_pred_log)*100,2)))"
      ],
      "execution_count": null,
      "outputs": [
        {
          "output_type": "stream",
          "text": [
            "Accuracy score of test  data= 85.57%\n",
            "Accuracy score of train data= 84.87%\n"
          ],
          "name": "stdout"
        }
      ]
    },
    {
      "cell_type": "markdown",
      "metadata": {
        "id": "tS7_XHK_0gSi"
      },
      "source": [
        "## Q3: Confusion Matrix, Costs, Averge Profit & Thresholds (35 points)"
      ]
    },
    {
      "cell_type": "markdown",
      "metadata": {
        "id": "dfYhbjPY0gSj"
      },
      "source": [
        "#### 3.1 Confusion Matrix (7 points)\n",
        "\n",
        "The confusion matrix is of the following form:\n",
        "\n",
        "![hwimages](./images/confusionmatrix.png)"
      ]
    },
    {
      "cell_type": "markdown",
      "metadata": {
        "id": "vVZIrRnc0gSk"
      },
      "source": [
        "**3.1 a) Plot the confusion matrix for the above models on the train & test data-sets using the helper function below(total 2 plots)**\n"
      ]
    },
    {
      "cell_type": "code",
      "metadata": {
        "id": "_-EYzvLa0gSk"
      },
      "source": [
        "# helper function to plot confusion matrix\n",
        "\n",
        "def plot_confusion_matrix(model, features, labels, test=True):\n",
        "\n",
        "    # Predict the values from the dataset\n",
        "    y_pred = model.predict(features)\n",
        "    # Convert validation observations to one hot vectors\n",
        "    y_true = labels \n",
        "    # compute the confusion matrix\n",
        "    confusion_mtx = confusion_matrix(y_true, y_pred) \n",
        "\n",
        "    df_cm = pd.DataFrame(confusion_mtx, range(2),\n",
        "                      range(2))\n",
        "    sns.heatmap(df_cm, annot=True, annot_kws = {'size':15}, cmap = 'Blues',fmt = 'd',\n",
        "                norm=LogNorm(df_cm.values.min(),df_cm.values.max()),\n",
        "                cbar_kws={\"ticks\":[0,1,10,1e2,1e3,1e4]},vmin=0.001, vmax=10000)\n",
        "    plt.tight_layout()\n",
        "    if test:\n",
        "        plt.title('Confusion matrix on Test data')\n",
        "    else:\n",
        "        plt.title('Confusion matrix on Train data')\n",
        "    plt.ylabel('Observed label')\n",
        "    plt.xlabel('Predicted label')\n",
        "    plt.ylim(2,0)\n",
        "    plt.show()"
      ],
      "execution_count": null,
      "outputs": []
    },
    {
      "cell_type": "code",
      "metadata": {
        "id": "mU03TV7D0gSl",
        "colab": {
          "base_uri": "https://localhost:8080/",
          "height": 322
        },
        "outputId": "b9c6c110-4775-485b-dda9-3fa9e8e821ea"
      },
      "source": [
        "# your code here\r\n",
        "\r\n",
        "plot_confusion_matrix(logrec, X_train_scaled ,y_train, test = False)"
      ],
      "execution_count": null,
      "outputs": [
        {
          "output_type": "display_data",
          "data": {
            "image/png": "[encoded data removed]",
            "text/plain": [
              "<Figure size 432x288 with 2 Axes>"
            ]
          },
          "metadata": {
            "tags": [],
            "needs_background": "light"
          }
        }
      ]
    },
    {
      "cell_type": "code",
      "metadata": {
        "colab": {
          "base_uri": "https://localhost:8080/",
          "height": 322
        },
        "id": "wXNH9-IDVNzU",
        "outputId": "14f51f43-09d4-4544-9d80-646d863ca3cf"
      },
      "source": [
        "# your code here\r\n",
        "\r\n",
        "plot_confusion_matrix(logrec, X_test_scaled ,y_test)"
      ],
      "execution_count": null,
      "outputs": [
        {
          "output_type": "display_data",
          "data": {
            "image/png": "[encoded data removed]",
            "text/plain": [
              "<Figure size 432x288 with 2 Axes>"
            ]
          },
          "metadata": {
            "tags": [],
            "needs_background": "light"
          }
        }
      ]
    },
    {
      "cell_type": "markdown",
      "metadata": {
        "id": "YihUb3Y10gSl"
      },
      "source": [
        "**3.1 b) Calculate and print out the Observed Negatives(ON), Observed Positives(OP), Predicted Negatives(PN) & Predicted Positives(PP) for the test data-set**"
      ]
    },
    {
      "cell_type": "code",
      "metadata": {
        "id": "9GEDOWBc0gSm",
        "colab": {
          "base_uri": "https://localhost:8080/"
        },
        "outputId": "39cc0903-2366-46db-a5ab-0e859b3ae7f5"
      },
      "source": [
        "# your code here\r\n",
        "# your code here\r\n",
        "\r\n",
        "# plot_confusion_matrix(logrec, X_test_scaled ,y_test)\r\n",
        "\r\n",
        "confusion = confusion_matrix(y_test, y_test_pred_log)\r\n",
        "print(confusion)\r\n",
        "#[row, column]\r\n",
        "test_TP = confusion[1, 1]\r\n",
        "test_TN = confusion[0, 0]\r\n",
        "test_FP = confusion[0, 1]\r\n",
        "test_FN = confusion[1, 0]\r\n",
        "\r\n",
        "print('Observed Negatives(ON) ', test_TN + test_FP )\r\n",
        "print('Observed Positives(OP) ', test_FN + test_TP )\r\n",
        "print('Predicted Negatives(PN) ', test_TN + test_FN)\r\n",
        "print('Predicted Positives(PP) ', test_FP + test_TP)"
      ],
      "execution_count": null,
      "outputs": [
        {
          "output_type": "stream",
          "text": [
            "[[5289  120]\n",
            " [ 867  246]]\n",
            "Observed Negatives(ON)  5409\n",
            "Observed Positives(OP)  1113\n",
            "Predicted Negatives(PN)  6156\n",
            "Predicted Positives(PP)  366\n"
          ],
          "name": "stdout"
        }
      ]
    },
    {
      "cell_type": "markdown",
      "metadata": {
        "id": "Hv4EXJox0gSm"
      },
      "source": [
        "In addition to these four quantities, the confusion matrix gives us more details on proper classifications and mis-classifications from our classifier:\n",
        "\n",
        "- the samples that are +ive and the classifier predicts as +ive are called True Positives (TP). These are folks we correctly identified as responders,and thus sending them a mailing would result in a sale for us. True Positives are great. We do incur the cost of mailing them, but we like to because they will come into the store to buy.\n",
        "- the samples that are -ive and the classifier predicts (wrongly) as +ive are called False Positives (FP). False Positives incur us the cost of mailing them as well, but are not very costly. These are people who wouldnt have responded, but we sent them a mailing because our classifier mispredicted them as buyers. Thus, for them, we only incur the cost of preparing the mailing and mailing it to them.\n",
        "- the samples that are -ive and the classifier predicts as -ive are called True Negatives (TN). These are folks we correctly identified as not-responding, and thus we dont waste any money on sending them a mailing. This is a great classification for us.\n",
        "- the samples that are +ive and the classifier predicts as -ive are called False Negatives (FN). False negatives are VERY costly: these are folks who would have responded to us had we mailed them, but we didnt target them, leading to huge lost sales per person. Notice that our Logistic classifier has tons of False Negatives\n",
        "\n",
        "It is not enough to simply identify these categories from the confusion matrix. Rather, we want to sit down with our business team and identify the costs associated with each of the 4 classification situations above. Keep in mind that these costs might even change from year to year or even more suddenly: this is why it is important to have marketing and sales people on your data science teams. (See Patil, D. J. Building data science teams. \" O'Reilly Media, Inc.\", 2011.\n",
        " for more details)."
      ]
    },
    {
      "cell_type": "markdown",
      "metadata": {
        "id": "l_jtXoZr0gSn"
      },
      "source": [
        "#### 3.2 Cost  and Utility Matrix (6 points)\n",
        "\n",
        "We use the costs to write a **risk or cost matrix** in the same form as the confusion matrix above. \n",
        "\n",
        "![cost matrix](images/costmatrix.png)\n",
        "\n",
        "The negative of the cost matrix is called the **utility matrix or profit matrix** `u`. We shall use this in the next part of the homework."
      ]
    },
    {
      "cell_type": "markdown",
      "metadata": {
        "id": "Htrgo0Hh0gSn"
      },
      "source": [
        "Lets assume the amortized cost of mailing it is \\$3. Lets assume additionally that the profit margin on a sale is 30% (we are a high end clothing chain).\n",
        "`True Negatives (TN)` cost us nothing but gain us nothing either. "
      ]
    },
    {
      "cell_type": "code",
      "metadata": {
        "id": "yDTTUUEE0gSo"
      },
      "source": [
        "# true negative cost\n",
        "tnc = 0.0"
      ],
      "execution_count": null,
      "outputs": []
    },
    {
      "cell_type": "markdown",
      "metadata": {
        "id": "vXOHURds0gSo"
      },
      "source": [
        "From the average cost of a sale, and the 30% profit assumption, we calculate `tpc`, the cost of a `True Positive (TP)`. Note: `tpc` must be negative, since we are talking about costs.\n",
        "\n",
        "The `tpc` takes into account the cost of mailing to the respondent & the cost of the coupon, and since our mailing works, we subtract out the profit. We use the average of the `AVRG` column(which is the average money spent by a customer on each visit) multiplied by the profit margin as the profit per person."
      ]
    },
    {
      "cell_type": "code",
      "metadata": {
        "id": "jYVeCH1W0gSp"
      },
      "source": [
        "# true positive cost\n",
        "mail = 3 \n",
        "profit_margin = 0.3\n",
        "tpc = round(mail - df.AVRG.mean()*profit_margin,2)"
      ],
      "execution_count": null,
      "outputs": []
    },
    {
      "cell_type": "markdown",
      "metadata": {
        "id": "zSIeIKkY0gSp"
      },
      "source": [
        "The `False Negative (FN)` is a lost sale for us! We didnt mail them, and they didnt spend the money. They would have if we mailed them. So we lost a certain profit per such false negative! Thus the false-negative cost, given by `fnc`, is:"
      ]
    },
    {
      "cell_type": "code",
      "metadata": {
        "id": "mNO3--Cs0gSq"
      },
      "source": [
        "fnc = round(np.mean(df.AVRG)*profit_margin,2)"
      ],
      "execution_count": null,
      "outputs": []
    },
    {
      "cell_type": "markdown",
      "metadata": {
        "id": "9Txk3W9d0gSq"
      },
      "source": [
        "This leaves us with `False Positives (FP)`. This is a person who would not have responded but you wasted $3 on. So the false positive cost, (`fpc`) is:"
      ]
    },
    {
      "cell_type": "code",
      "metadata": {
        "id": "OGSe4gXU0gSr"
      },
      "source": [
        "fpc = mail"
      ],
      "execution_count": null,
      "outputs": []
    },
    {
      "cell_type": "code",
      "metadata": {
        "id": "tFwD2Gx50gSr",
        "colab": {
          "base_uri": "https://localhost:8080/"
        },
        "outputId": "11a42f1c-c92a-4035-b45b-495c421792b7"
      },
      "source": [
        "print('TNC:', tnc,'\\n','TPC:', tpc,'\\n','FNC:', fnc,'\\n','FPC:', fpc)"
      ],
      "execution_count": null,
      "outputs": [
        {
          "output_type": "stream",
          "text": [
            "TNC: 0.0 \n",
            " TPC: -31.17 \n",
            " FNC: 34.17 \n",
            " FPC: 3\n"
          ],
          "name": "stdout"
        }
      ]
    },
    {
      "cell_type": "markdown",
      "metadata": {
        "id": "yfFFhTMX0gSt"
      },
      "source": [
        "**Print out the profit matrix array. Use the costs described above**"
      ]
    },
    {
      "cell_type": "code",
      "metadata": {
        "id": "_PxpejRM0gSu",
        "colab": {
          "base_uri": "https://localhost:8080/"
        },
        "outputId": "65809454-1093-4bad-a675-fd1558fe8543"
      },
      "source": [
        "# your code here\r\n",
        "profit = -1*np.array([[tnc, fpc],[fnc, tpc]])\r\n",
        "profit"
      ],
      "execution_count": null,
      "outputs": [
        {
          "output_type": "execute_result",
          "data": {
            "text/plain": [
              "array([[ -0.  ,  -3.  ],\n",
              "       [-34.17,  31.17]])"
            ]
          },
          "metadata": {
            "tags": []
          },
          "execution_count": 43
        }
      ]
    },
    {
      "cell_type": "markdown",
      "metadata": {
        "id": "ygT9w-A-0gSv"
      },
      "source": [
        "#### 3.3 Average Profit Per Person (16 points)\n",
        "\n",
        "The Average Profit Per Person can be found by multiplying the utility matrix (u) by the confusion matrix elementwise, and dividing by the sum of the elements in the confusion matrix, or the test set size."
      ]
    },
    {
      "cell_type": "markdown",
      "metadata": {
        "id": "RgSdksG60gSv"
      },
      "source": [
        "**3.3 a) Write a function to calculate the average profit per person by following the instructions below**"
      ]
    },
    {
      "cell_type": "code",
      "metadata": {
        "id": "q8SzJYq50gSw"
      },
      "source": [
        "def average_profit_pp(y, ypred, u):\n",
        "    \"\"\"\n",
        "    Function\n",
        "    --------\n",
        "    average_profit_pp\n",
        "\n",
        "    Inputs\n",
        "    ------\n",
        "    y: the observed response value (true value)\n",
        "    ypred: the predicted response value\n",
        "    u: Utility or the Profit matrix\n",
        "\n",
        "    Returns\n",
        "    -------\n",
        "    score: average profit per person calculated\n",
        "    \"\"\"\n",
        "    # your code here\n",
        "    matrix = confusion_matrix(y,ypred)\n",
        "    average_profit = np.sum(u*matrix/len(y))\n",
        "    return average_profit"
      ],
      "execution_count": null,
      "outputs": []
    },
    {
      "cell_type": "markdown",
      "metadata": {
        "id": "dwn6topf0gSw"
      },
      "source": [
        "**3.3 b) Calculate and Print the Avg Profit Per Person on our test data for the 2 baseline classifiers:** \n",
        "- Dont Send to Anyone Baseline Classifier (predicts that no customer will respond)\n",
        "- Send to Everyone Baseline Classifier (predicts that all customers will respond)"
      ]
    },
    {
      "cell_type": "code",
      "metadata": {
        "colab": {
          "base_uri": "https://localhost:8080/"
        },
        "id": "4nyj4YjvL0C4",
        "outputId": "a809f61a-31c5-40d1-cc53-108e89a40dfa"
      },
      "source": [
        "average_profit_pp(y_train,y_train_pred_log,profit)"
      ],
      "execution_count": null,
      "outputs": [
        {
          "output_type": "execute_result",
          "data": {
            "text/plain": [
              "-3.210311473255355"
            ]
          },
          "metadata": {
            "tags": []
          },
          "execution_count": 56
        }
      ]
    },
    {
      "cell_type": "markdown",
      "metadata": {
        "id": "kJCfTeIJ0gSw"
      },
      "source": [
        "*your answer here*"
      ]
    },
    {
      "cell_type": "markdown",
      "metadata": {
        "id": "EqdFvLT90gSx"
      },
      "source": [
        "**3.3 c) Taking the average profit per person as the comparison metric, which one of the above 2 classifiers is the one to beat?**"
      ]
    },
    {
      "cell_type": "markdown",
      "metadata": {
        "id": "9X3aWcbo0gSx"
      },
      "source": [
        "*your answer here*\n",
        "\n"
      ]
    },
    {
      "cell_type": "markdown",
      "metadata": {
        "id": "8UpMmVfo0gSy"
      },
      "source": [
        "**3.3 d) What is the Avg Profit Per Person for our Logistic-L1 classifier?**"
      ]
    },
    {
      "cell_type": "markdown",
      "metadata": {
        "id": "1YcljhBm0gSy"
      },
      "source": [
        "*your answer here*"
      ]
    },
    {
      "cell_type": "code",
      "metadata": {
        "colab": {
          "base_uri": "https://localhost:8080/"
        },
        "id": "Teb1U8J7JB-o",
        "outputId": "9adf35a0-5bc1-4ae4-9ccd-aa4a4fc91480"
      },
      "source": [
        "y = logrec.predict(X_test_scaled)\r\n",
        "avg_profit_per_person = average_profit_pp(y_test, y, profit)\r\n",
        "avg_profit_per_person"
      ],
      "execution_count": null,
      "outputs": [
        {
          "output_type": "execute_result",
          "data": {
            "text/plain": [
              "-3.421890524379025"
            ]
          },
          "metadata": {
            "tags": []
          },
          "execution_count": 44
        }
      ]
    },
    {
      "cell_type": "markdown",
      "metadata": {
        "id": "RMBZWxLw0gSy"
      },
      "source": [
        "#### 3.4 Thresholds (6 points)\n",
        "\n",
        "The `sklearn` API function `predict` assumes a threshold probability of having a +ve sample to be 0.5; that is, if a sample has a greater than 0.5 chance of being a 1, assume it is so. In the predictions above, we've done exactly that - if probability is >= 0.5, then `ypred` is 1 else 0.\n",
        "\n",
        "By varying the threshold, the `ypred` and consequently the confusion matrix and the avg profit per person can change. "
      ]
    },
    {
      "cell_type": "markdown",
      "metadata": {
        "id": "p_1A6EGJ0gSz"
      },
      "source": [
        "**3.4 a) The thresholds are NOT always kept at 0.5 while solving a classification problem. Why do you think this happens? Can you think of any other real world example where we would want to change the threshold from 0.5?**"
      ]
    },
    {
      "cell_type": "markdown",
      "metadata": {
        "id": "DIwwS7kU0gSz"
      },
      "source": [
        "*your answer here*\n",
        "\n"
      ]
    },
    {
      "cell_type": "markdown",
      "metadata": {
        "id": "TYK9x5_e0gSz"
      },
      "source": [
        "**3.4 b) Find out the average profit per person for a given thresholds of 0.05. You can use the helper function provided below to help with this problem**"
      ]
    },
    {
      "cell_type": "code",
      "metadata": {
        "id": "sewosz3v0gS0"
      },
      "source": [
        "# helper function to return the predictions for a given threshold 't'\n",
        "\n",
        "def t_repredict(clf,t,xtest):\n",
        "    probs=clf.predict_proba(xtest)\n",
        "    p1 = probs[:,1]\n",
        "    ypred = (p1 > t)*1\n",
        "    return ypred"
      ],
      "execution_count": null,
      "outputs": []
    },
    {
      "cell_type": "code",
      "metadata": {
        "id": "_V-6uP5u0gS0",
        "colab": {
          "base_uri": "https://localhost:8080/"
        },
        "outputId": "6caf1ce2-2ddb-4b6a-ef7d-2da98e3861b8"
      },
      "source": [
        "# your code here\r\n",
        "\r\n",
        "# log_clf.fit(X_train, y_train)\r\n",
        "y = t_repredict(logrec, 0.05, X_test_scaled)\r\n",
        "average_profit_pp(y, y_test, profit)"
      ],
      "execution_count": null,
      "outputs": [
        {
          "output_type": "execute_result",
          "data": {
            "text/plain": [
              "-10.644553817847285"
            ]
          },
          "metadata": {
            "tags": []
          },
          "execution_count": 46
        }
      ]
    },
    {
      "cell_type": "markdown",
      "metadata": {
        "id": "LBUfUsKi0gS0"
      },
      "source": [
        "**3.4 c) Compare the above classifier with our baseline classifiers. What do you observe? Is this classifier worth pursuing?**"
      ]
    },
    {
      "cell_type": "markdown",
      "metadata": {
        "id": "677E84gS0gS1"
      },
      "source": [
        "*your answer here*\n",
        "\n"
      ]
    },
    {
      "cell_type": "markdown",
      "metadata": {
        "id": "iYNd6f7i0gS1"
      },
      "source": [
        "## Part 4: ROC Curves & Profit Curves (20 points)"
      ]
    },
    {
      "cell_type": "markdown",
      "metadata": {
        "id": "fUqFMWFE0gS1"
      },
      "source": [
        "#### 4.1 ROC Curves (3 points)\n",
        "\n",
        "ROC curves are a set of classifiers, many of them, each point corresponding to a different threshold. They are useful to compare classifiers to each other and also to baseline models.\n",
        "(In the standard scenario, where we used the  classifier accuracy, this threshold is implicitly set at 0.5, and we have only one point on the ROC curve.).\n",
        "\n",
        "The practical way to do this is to order the samples by probability of being positive. Then consider the sample with the highest score or highest probability of being positive. At first, only this sample is positive. Then, we take the sample with the next highest score, and call it positive. As we go down the list, we go down a threshold in score or probability. \n",
        "\n",
        "Now, for each such situation: only 1 positive, now 2 positive,....you can imagine a different classifier with a different confusion matrix. It will have its own false positives, three positives, etc. Its actually the same original classifier, but with a different threshold each time.\n",
        "\n",
        "As we keep going down the list, decreasing the threshold, more and more samples become positive, and at first, the true positives rise faster than the false positives. Once past a certain point, false positives increase faster than true positives. Now, if you want a balanced classifier, you look at this turn-around point. But if you want a classifier which penalizes false positives and false negatives differently, the point you want is different.\n",
        "\n",
        "To make a ROC curve you plot the True Positive Rate, \n",
        "\n",
        "$$TPR=\\frac{TP}{OP}$$\n",
        "\n",
        "against the False Positive Rate,\n",
        "\n",
        "$$FPR=\\frac{FP}{ON}$$\n",
        "\n",
        "as you go through this process of going down the list of samples. ROC curves are useful because they calculate one classifier per threshold and show you where you are in TPR/FPR space without making any assumptions about the utility matrix or which threshold is appropriate.\n",
        "\n",
        "A rote reading of the ROC curve (go to the \"northwest\" corner) is a bad idea: you must fold in the curve with any assumptions you are making about the utilities. In our case we have both an asymmetric data set, and asymmetric risk, so the north west corner may not be the right spot. Still, on the whole, a curve with a greater AUC (area under curve), or further away from the line of randomness, will give us a rough idea of what might be a better classifier."
      ]
    },
    {
      "cell_type": "markdown",
      "metadata": {
        "id": "YuZ89blG0gS2"
      },
      "source": [
        "**Plot the ROC curves for the Logistic-L1 model. Use the helper function below given below to help you out with this**"
      ]
    },
    {
      "cell_type": "code",
      "metadata": {
        "id": "YOcpvket0gS2"
      },
      "source": [
        "# helper function to plot the ROC Curve\n",
        "\n",
        "def make_roc(clf, ytest, xtest):\n",
        "    \n",
        "    fig,ax=plt.subplots(figsize=(12,8))\n",
        "    fpr, tpr, thresholds=roc_curve(ytest, clf.predict_proba(xtest)[:,1])\n",
        "    roc_auc = auc(fpr, tpr)\n",
        "    ax.plot(fpr, tpr, '.-', alpha=0.3, label='ROC curve (area = %0.2f)' % (roc_auc))\n",
        "    \n",
        "    label_kwargs = {}\n",
        "    label_kwargs['bbox'] = dict(\n",
        "        boxstyle='round,pad=0.3', alpha=0.2,\n",
        "    )\n",
        "    for k in range(0, fpr.shape[0],200):\n",
        "        #from https://gist.github.com/podshumok/c1d1c9394335d86255b8\n",
        "        threshold = str(np.round(thresholds[k], 2))\n",
        "        ax.annotate(threshold, (fpr[k], tpr[k]), **label_kwargs)\n",
        "        \n",
        "    ax.plot([0, 1], [0, 1], 'k--', label='No Model')\n",
        "    ax.set_xlim([0.0, 1.0])\n",
        "    ax.set_ylim([0.0, 1.05])\n",
        "    ax.set_xlabel('False Positive Rate')\n",
        "    ax.set_ylabel('True Positive Rate')\n",
        "    ax.set_title('ROC')\n",
        "    ax.legend(loc=\"lower right\")\n",
        "    \n",
        "    return ax\n",
        "        \n",
        "    "
      ],
      "execution_count": null,
      "outputs": []
    },
    {
      "cell_type": "code",
      "metadata": {
        "id": "nlPuRWvY0gS2",
        "colab": {
          "base_uri": "https://localhost:8080/",
          "height": 555
        },
        "outputId": "fb5f8787-2520-48c2-ab59-74dea7146173"
      },
      "source": [
        "#your code here\r\n",
        "make_roc(logrec, y_test, X_test_scaled)"
      ],
      "execution_count": null,
      "outputs": [
        {
          "output_type": "execute_result",
          "data": {
            "text/plain": [
              "<matplotlib.axes._subplots.AxesSubplot at 0x7fd7ec78d438>"
            ]
          },
          "metadata": {
            "tags": []
          },
          "execution_count": 50
        },
        {
          "output_type": "display_data",
          "data": {
            "image/png": "[encoded data removed]",
            "text/plain": [
              "<Figure size 864x576 with 1 Axes>"
            ]
          },
          "metadata": {
            "tags": [],
            "needs_background": "light"
          }
        }
      ]
    },
    {
      "cell_type": "markdown",
      "metadata": {
        "id": "W45ILZGQ0gS2"
      },
      "source": [
        "#### 4.2 Profit Curves (17 points)\n",
        "\n",
        "Just like in a ROC curve, we go down the sorted (by score or probability) list of samples. We one-by-one add an additional sample to our positive samples, noting down the classifier's TPR and FPR and threshold. In addition to what we do for the ROC curve, we now also note down the percentage of our list of samples predicted as positive. Remember we start from the most positive, where the percentage labelled as positive would be minuscule, like 0.1 or so and the threshold like a 0.99 in probability or so. As we decrease the threshold, the percentage predicted to be positive clearly increases until everything is predicted positive at a threshold of 0. What we now do is, at each such additional sample/threshold (given to us by the `roc_curve` function from `sklearn`), we calculate the expected profit per person and plot it against the percentage predicted positive by that threshold to produce a profit curve. Thus, small percentages correspond to samples most likely to be positive: a percentage of 8% means the top 8% of our samples ranked by likelihood of being positive.\n"
      ]
    },
    {
      "cell_type": "markdown",
      "metadata": {
        "id": "QI1wwPDO0gS3"
      },
      "source": [
        "**4.2 a) Write a function to calculate the percentage of samples classified/predicted as positive given the TPR and FPR of a classifier. Follow the instructions below**"
      ]
    },
    {
      "cell_type": "code",
      "metadata": {
        "id": "k-CfrgSF0gS3"
      },
      "source": [
        "def percentage(tpr, fpr, priorp, priorn):\n",
        "    \"\"\"\n",
        "    Function\n",
        "    --------\n",
        "    percentage\n",
        "\n",
        "    Inputs\n",
        "    ------\n",
        "    tpr: True Positive Rate\n",
        "    fpr: False Positive Rate\n",
        "    priorp: the probability of observed +ives (OP) on our test set\n",
        "    priorn: the probability of observed +ives (ON) on our test set\n",
        "\n",
        "    Returns\n",
        "    -------\n",
        "    perc: percentage of samples classified as positive\n",
        "    \"\"\"\n",
        "    #your code here\n",
        "    # print(tpr, fpr, priorp, priorn)\n",
        "    perc = (tpr*priorp)+(fpr*priorn)\n",
        "    return perc\n",
        "    "
      ],
      "execution_count": null,
      "outputs": []
    },
    {
      "cell_type": "markdown",
      "metadata": {
        "id": "Z_biKcT40gS3"
      },
      "source": [
        "**4.2 b) Write a function to calculate the Expected Profit Per Person given the TPR & FPR from a classifier(this is different than our `average_profit_pp` above as we now want this in terms of TPR and FPR.**"
      ]
    },
    {
      "cell_type": "code",
      "metadata": {
        "id": "NgOAi7pr0gS4"
      },
      "source": [
        "def av_profit(tpr, fpr, util, priorp, priorn):\n",
        "    \"\"\"\n",
        "    Function\n",
        "    --------\n",
        "    percentage\n",
        "\n",
        "    Inputs\n",
        "    ------\n",
        "    tpr: True Positive Rate\n",
        "    fpr: False Positive Rate\n",
        "    util: Utility Matrix\n",
        "    priorp: the probability of observed +ives (OP) on our test set\n",
        "    priorn: the probability of observed +ives (ON) on our test set\n",
        "\n",
        "    Returns\n",
        "    -------\n",
        "    profit: the average profit per person at this (fpr, tpr) point in this ROC space.\n",
        "    \n",
        "    Notes\n",
        "    -----\n",
        "    see make_profit below for an example of how this is used\n",
        "    \"\"\"\n",
        "    #your code here\n",
        "    \n",
        "    ep = (tpr*priorp)- (fpr*priorn)\n",
        "    return ep*np.sum(util)\n",
        "    \n",
        "    \n",
        "    "
      ],
      "execution_count": null,
      "outputs": []
    },
    {
      "cell_type": "markdown",
      "metadata": {
        "id": "orPDC5Xg0gS4"
      },
      "source": [
        "**4.2 c) Plot the Profit Curve for our Logistic-L1 model using the helper function below. Also plot the profit lines for the STE(Send to Everyone) and the DSTE (Dont Send to Anyone) baseline classifiers. Make sure the labels are appropriately named and the legend is clearly displayed**"
      ]
    },
    {
      "cell_type": "code",
      "metadata": {
        "id": "Q37IV2tU0gS4"
      },
      "source": [
        "# helper function to plot the profit curve\n",
        "\n",
        "def make_profit(clf, ytest, xtest, util):\n",
        "    \n",
        "    fig,ax=plt.subplots(figsize=(12,8))\n",
        "    fpr, tpr, thresholds=roc_curve(ytest, clf.predict_proba(xtest)[:,1])\n",
        "    priorp=np.mean(ytest)\n",
        "    priorn=1. - priorp\n",
        "    ben=[]\n",
        "    percs=[]\n",
        "    \n",
        "    for i,t in enumerate(thresholds):\n",
        "        perc=percentage(tpr[i], fpr[i], priorp, priorn)\n",
        "        ev = av_profit(tpr[i], fpr[i], util, priorp, priorn)\n",
        "        ben.append(ev)\n",
        "        percs.append(perc*100)\n",
        "    ax.plot(percs, ben, '-', alpha=0.3, markersize=5, label='Profit Curve for model' )\n",
        "   \n",
        "    label_kwargs = {}\n",
        "    label_kwargs['bbox'] = dict(\n",
        "    boxstyle='round,pad=0.3', alpha=0.2,\n",
        "    )\n",
        "    for k in range(0, fpr.shape[0],200):\n",
        "        #from https://gist.github.com/podshumok/c1d1c9394335d86255b8\n",
        "        threshold = str(np.round(thresholds[k], 2))\n",
        "        ax.annotate(threshold, (percs[k], ben[k]), **label_kwargs)\n",
        "                \n",
        "    ax.set_xlabel('% Predicted Positive')\n",
        "    ax.set_ylabel('Avg Profit Per Person')\n",
        "    ax.set_title('Profit Curve')\n",
        "    return ax\n",
        "\n"
      ],
      "execution_count": null,
      "outputs": []
    },
    {
      "cell_type": "code",
      "metadata": {
        "id": "YHch7gF10gS4",
        "colab": {
          "base_uri": "https://localhost:8080/",
          "height": 555
        },
        "outputId": "e2a39536-1da9-451d-a45f-992eeb6221b8"
      },
      "source": [
        "# your code here\r\n",
        "make_profit(logrec,  y_test, X_test_scaled, profit)"
      ],
      "execution_count": null,
      "outputs": [
        {
          "output_type": "execute_result",
          "data": {
            "text/plain": [
              "<matplotlib.axes._subplots.AxesSubplot at 0x7fd7ec88c9e8>"
            ]
          },
          "metadata": {
            "tags": []
          },
          "execution_count": 87
        },
        {
          "output_type": "display_data",
          "data": {
            "image/png": "[encoded data removed]",
            "text/plain": [
              "<Figure size 864x576 with 1 Axes>"
            ]
          },
          "metadata": {
            "tags": [],
            "needs_background": "light"
          }
        }
      ]
    },
    {
      "cell_type": "markdown",
      "metadata": {
        "id": "Kvl8hW3q0gS5"
      },
      "source": [
        "**4.2 d) Why you only start making a profit at a certain percentage?**"
      ]
    },
    {
      "cell_type": "markdown",
      "metadata": {
        "id": "M6et0T0Y0gS8"
      },
      "source": [
        "*your answer here*\n",
        "\n"
      ]
    },
    {
      "cell_type": "markdown",
      "metadata": {
        "id": "vuP2mkQG0gS8"
      },
      "source": [
        "**4.2 e) What is the region on interest on the graph that you might want to communicate with the company managers in terms of maximizing your profit over the baseline?**"
      ]
    },
    {
      "cell_type": "markdown",
      "metadata": {
        "id": "FJtN_jek0gS8"
      },
      "source": [
        "*your answer here*\n",
        "\n"
      ]
    }
  ]
}